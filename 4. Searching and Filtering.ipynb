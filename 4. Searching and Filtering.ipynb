{
 "cells": [
  {
   "cell_type": "markdown",
   "id": "208de1ed",
   "metadata": {},
   "source": [
    "# Searching and Filtering Arrays\n",
    "\n",
    "This lesson is all about **searching** and **filtering** NumPy arrays, two useful operations used frequently when using NumPy."
   ]
  },
  {
   "cell_type": "code",
   "execution_count": 1,
   "id": "4b6dad51",
   "metadata": {},
   "outputs": [],
   "source": [
    "import numpy as np"
   ]
  },
  {
   "cell_type": "markdown",
   "id": "57abfcec",
   "metadata": {},
   "source": [
    "## Searching arrays\n",
    "\n",
    "In addition to searching for *one* specific value in an array, NumPy arrays also allow us to search for elements through a *condition*. For instance, we can find the indices of all elements of an array that are even.\n",
    "\n",
    "`numpy.where()` has the following syntax:\n",
    "\n",
    "```python\n",
    "np.where(condition)\n",
    "```\n",
    "\n",
    "The function call above will return an **array of indices** of the elements that match the condition."
   ]
  },
  {
   "cell_type": "code",
   "execution_count": 2,
   "id": "2569845a",
   "metadata": {
    "scrolled": true
   },
   "outputs": [
    {
     "name": "stdout",
     "output_type": "stream",
     "text": [
      "(array([0, 2, 4, 6, 8], dtype=int64),)\n",
      "(array([6, 7, 8, 9], dtype=int64),)\n"
     ]
    }
   ],
   "source": [
    "arr = np.array(range(10))\n",
    "print(np.where(arr % 2 == 0))\n",
    "print(np.where(arr > 5))"
   ]
  },
  {
   "cell_type": "code",
   "execution_count": 3,
   "id": "844df88a",
   "metadata": {},
   "outputs": [
    {
     "name": "stdout",
     "output_type": "stream",
     "text": [
      "(array([2, 3, 5], dtype=int64),)\n"
     ]
    }
   ],
   "source": [
    "arr = np.array([1, 2, 3, 3, 4, 3])\n",
    "print(np.where(arr == 3))"
   ]
  },
  {
   "cell_type": "markdown",
   "id": "d2cf35b4",
   "metadata": {},
   "source": [
    "## Filtering arrays\n",
    "\n",
    "Filtering is the process of creating a new array out of *some* elements of an existing array. For instance, if we have an array of ages, we can use filtering to create a new array of ages that are above 18."
   ]
  },
  {
   "cell_type": "code",
   "execution_count": 4,
   "id": "9ea3be90",
   "metadata": {
    "scrolled": true
   },
   "outputs": [
    {
     "name": "stdout",
     "output_type": "stream",
     "text": [
      "[ 7  9 11 13 14 19 22 24 26 29 30 32]\n"
     ]
    }
   ],
   "source": [
    "ages = np.array([7, 9, 11, 13, 14, 19, 22, 24, 26, 29, 30, 32])\n",
    "print(ages)"
   ]
  },
  {
   "cell_type": "code",
   "execution_count": 5,
   "id": "458b790f",
   "metadata": {},
   "outputs": [
    {
     "name": "stdout",
     "output_type": "stream",
     "text": [
      "[False False False False False  True  True  True  True  True  True  True]\n"
     ]
    }
   ],
   "source": [
    "mask = ages >= 18\n",
    "print(mask)"
   ]
  },
  {
   "cell_type": "code",
   "execution_count": 6,
   "id": "3851f6ee",
   "metadata": {},
   "outputs": [
    {
     "name": "stdout",
     "output_type": "stream",
     "text": [
      "[19 22 24 26 29 30 32]\n"
     ]
    }
   ],
   "source": [
    "print(ages[mask])"
   ]
  },
  {
   "cell_type": "markdown",
   "id": "43ce5470",
   "metadata": {},
   "source": [
    "Or, we can combine the filtering into 1 line as shown below."
   ]
  },
  {
   "cell_type": "code",
   "execution_count": 7,
   "id": "a7fd7348",
   "metadata": {
    "scrolled": true
   },
   "outputs": [
    {
     "name": "stdout",
     "output_type": "stream",
     "text": [
      "[19 22 24 26 29 30 32]\n"
     ]
    }
   ],
   "source": [
    "print(ages[ages >= 18])"
   ]
  },
  {
   "cell_type": "markdown",
   "id": "55b3e6d5",
   "metadata": {},
   "source": [
    "We can also use `and` and `or` in the conditions using the `&` and `|` operators. Note that the parentheses are required for the code to work."
   ]
  },
  {
   "cell_type": "code",
   "execution_count": 8,
   "id": "e4436715",
   "metadata": {},
   "outputs": [
    {
     "name": "stdout",
     "output_type": "stream",
     "text": [
      "[19 22 24]\n",
      "[ 7  9 11 13 14 26 29 30 32]\n"
     ]
    }
   ],
   "source": [
    "print(ages[(ages >= 18) & (ages < 26)])\n",
    "print(ages[(ages < 18) | (ages >= 26)])"
   ]
  },
  {
   "cell_type": "markdown",
   "id": "c9ee995f",
   "metadata": {},
   "source": [
    "`~` is the `not` operator in NumPy."
   ]
  },
  {
   "cell_type": "code",
   "execution_count": 9,
   "id": "1b2fcb01",
   "metadata": {},
   "outputs": [
    {
     "name": "stdout",
     "output_type": "stream",
     "text": [
      "[19 22 24]\n"
     ]
    }
   ],
   "source": [
    "print(ages[(ages >= 18) & ~(ages >= 26)])"
   ]
  },
  {
   "cell_type": "markdown",
   "id": "9e88fa06",
   "metadata": {},
   "source": [
    "## `numpy.any()` and `numpy.all()`\n",
    "\n",
    "The `numpy.any()` and `numpy.all()` functions determine whether **any** or **all** of the elements in an array evaluates to `True`, with an optional `axis` parameter."
   ]
  },
  {
   "cell_type": "code",
   "execution_count": 10,
   "id": "983024c3",
   "metadata": {},
   "outputs": [
    {
     "name": "stdout",
     "output_type": "stream",
     "text": [
      "[[93 91 94 84 86 97 83 80]\n",
      " [90 78 98 82 90 93 90 76]]\n",
      "[[ True  True  True False False  True False False]\n",
      " [ True False  True False  True  True  True False]]\n"
     ]
    }
   ],
   "source": [
    "scores = np.array([\n",
    "    [93, 91, 94, 84, 86, 97, 83, 80],\n",
    "    [90, 78, 98, 82, 90, 93, 90, 76]\n",
    "])\n",
    "print(scores)\n",
    "\n",
    "a = scores >= 90\n",
    "print(a)"
   ]
  },
  {
   "cell_type": "code",
   "execution_count": 11,
   "id": "316d474a",
   "metadata": {},
   "outputs": [
    {
     "name": "stdout",
     "output_type": "stream",
     "text": [
      "True\n",
      "[ True  True  True False  True  True  True False]\n",
      "[ True  True]\n"
     ]
    }
   ],
   "source": [
    "print(np.any(a))\n",
    "print(np.any(a, axis=0))\n",
    "print(np.any(a, axis=1))"
   ]
  },
  {
   "cell_type": "code",
   "execution_count": 12,
   "id": "82afbc7b",
   "metadata": {},
   "outputs": [
    {
     "name": "stdout",
     "output_type": "stream",
     "text": [
      "False\n",
      "[ True False  True False False  True False False]\n",
      "[False False]\n"
     ]
    }
   ],
   "source": [
    "print(np.all(a))\n",
    "print(np.all(a, axis=0))\n",
    "print(np.all(a, axis=1))"
   ]
  },
  {
   "cell_type": "markdown",
   "id": "e98f0fc0",
   "metadata": {},
   "source": [
    "## Summary\n",
    "\n",
    "Today, we learned about\n",
    "\n",
    "1. Searching through arrays with conditions using `np.where()`\n",
    "2. Filtering arrays using conditions\n",
    "3. `numpy.any()` and `numpy.all()`"
   ]
  }
 ],
 "metadata": {
  "kernelspec": {
   "display_name": "Python 3 (ipykernel)",
   "language": "python",
   "name": "python3"
  },
  "language_info": {
   "codemirror_mode": {
    "name": "ipython",
    "version": 3
   },
   "file_extension": ".py",
   "mimetype": "text/x-python",
   "name": "python",
   "nbconvert_exporter": "python",
   "pygments_lexer": "ipython3",
   "version": "3.10.7"
  }
 },
 "nbformat": 4,
 "nbformat_minor": 5
}
