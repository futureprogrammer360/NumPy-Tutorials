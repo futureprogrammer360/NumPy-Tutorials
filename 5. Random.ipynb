{
 "cells": [
  {
   "cell_type": "markdown",
   "id": "a356b2c4",
   "metadata": {},
   "source": [
    "# Random\n",
    "\n",
    "The generation of random values and random distributions is a common task in data science. NumPy's `random` module allows us to perform these operations."
   ]
  },
  {
   "cell_type": "code",
   "execution_count": 1,
   "id": "f0e9deac",
   "metadata": {},
   "outputs": [],
   "source": [
    "import numpy as np"
   ]
  },
  {
   "cell_type": "markdown",
   "id": "9bdcf5ce",
   "metadata": {},
   "source": [
    "## Random generator\n",
    "\n",
    "The recommended way of generating random values and distributions is with a `Generator`. We can construct a `Generator` using the `numpy.random.default_rng()` function."
   ]
  },
  {
   "cell_type": "code",
   "execution_count": 2,
   "id": "afcb9c84",
   "metadata": {},
   "outputs": [
    {
     "name": "stdout",
     "output_type": "stream",
     "text": [
      "Generator(PCG64)\n"
     ]
    }
   ],
   "source": [
    "rng = np.random.default_rng()\n",
    "print(rng)"
   ]
  },
  {
   "cell_type": "markdown",
   "id": "094c1e29",
   "metadata": {},
   "source": [
    "## Random data\n",
    "\n",
    "An instance of `Generator` provides methods to generate random data.\n",
    "\n",
    "The `size` parameter in these methods is the shape of the output array. If `size` is `None` or not given, a single value will be returned."
   ]
  },
  {
   "cell_type": "markdown",
   "id": "6b83efea",
   "metadata": {},
   "source": [
    "`numpy.random.Generator.integers(low, high, size)` returns random integers between `low` and `high` (inclusive of `low` but not of `high`)."
   ]
  },
  {
   "cell_type": "code",
   "execution_count": 3,
   "id": "cd518c3c",
   "metadata": {},
   "outputs": [
    {
     "name": "stdout",
     "output_type": "stream",
     "text": [
      "5\n",
      "[[2 2 7]\n",
      " [7 9 1]]\n"
     ]
    }
   ],
   "source": [
    "print(rng.integers(1, 10))  # including 1 but excluding 10\n",
    "print(rng.integers(1, 10, size=(2, 3)))"
   ]
  },
  {
   "cell_type": "markdown",
   "id": "0808dc73",
   "metadata": {},
   "source": [
    "`numpy.random.Generator.random(size)` returns numbers in interval `[0.0, 1.0)`"
   ]
  },
  {
   "cell_type": "code",
   "execution_count": 4,
   "id": "f7e534c3",
   "metadata": {},
   "outputs": [
    {
     "name": "stdout",
     "output_type": "stream",
     "text": [
      "0.2753901250487497\n",
      "[[0.384129   0.99912568 0.66319451]\n",
      " [0.57235992 0.94340356 0.24892358]\n",
      " [0.39517788 0.16240803 0.35924913]\n",
      " [0.56559328 0.94216592 0.66002703]]\n"
     ]
    }
   ],
   "source": [
    "print(rng.random())\n",
    "print(rng.random((4, 3)))"
   ]
  },
  {
   "cell_type": "markdown",
   "id": "f377f9d8",
   "metadata": {},
   "source": [
    "`numpy.random.Generator.choice(a, size, replace, p)` randomly chooses values from `a`\n",
    "* The `replace` argument indicates whether the sample is with replacement. If `True` (default), a value can be selected multiple times.\n",
    "* The `p` argument specifies the probabilities of selecting each element in the array/list. If not specified, the distribution will be uniform."
   ]
  },
  {
   "cell_type": "code",
   "execution_count": 5,
   "id": "3a429834",
   "metadata": {},
   "outputs": [
    {
     "name": "stdout",
     "output_type": "stream",
     "text": [
      "2\n",
      "[[1 5 1]\n",
      " [5 3 1]]\n",
      "[[1 5 6]\n",
      " [3 2 4]]\n",
      "[[3 1 3]\n",
      " [3 3 3]]\n",
      "A\n"
     ]
    }
   ],
   "source": [
    "print(rng.choice([1, 2]))\n",
    "\n",
    "print(rng.choice([1, 2, 3, 4, 5, 6], size=(2, 3)))\n",
    "print(rng.choice([1, 2, 3, 4, 5, 6], size=(2, 3), replace=False))\n",
    "print(rng.choice([1, 2, 3], size=(2, 3), p=[0.1, 0.1, 0.8]))\n",
    "\n",
    "print(rng.choice([\"A\", \"B\"], p=[0.9, 0.1]))"
   ]
  },
  {
   "cell_type": "markdown",
   "id": "2a9452a9",
   "metadata": {},
   "source": [
    "## Shuffling\n",
    "\n",
    "* `numpy.random.Generator.permutation()` shuffles an array and **returns a copy**\n",
    "* `numpy.random.Generator.shuffle()` shuffles an array **in-place** (returns `None`)"
   ]
  },
  {
   "cell_type": "code",
   "execution_count": 6,
   "id": "580e5b7d",
   "metadata": {},
   "outputs": [
    {
     "name": "stdout",
     "output_type": "stream",
     "text": [
      "[0 1 2 3 4 5 6 7 8 9]\n",
      "[8 2 0 6 9 5 4 3 7 1]\n",
      "[0 1 2 3 4 5 6 7 8 9]\n",
      "\n",
      "[0 1 2 3 4 5 6 7 8 9]\n",
      "[3 6 9 0 2 8 5 1 4 7]\n"
     ]
    }
   ],
   "source": [
    "arr = np.arange(10)\n",
    "print(arr)\n",
    "print(rng.permutation(arr))\n",
    "print(arr)\n",
    "\n",
    "print()\n",
    "\n",
    "arr = np.arange(10)\n",
    "print(arr)\n",
    "rng.shuffle(arr)\n",
    "print(arr)"
   ]
  },
  {
   "cell_type": "markdown",
   "id": "a5116849",
   "metadata": {},
   "source": [
    "## Distributions\n",
    "\n",
    "One cool advantage of using NumPy to perform random generation is its ability to draw samples from many distributions. Here are a few of the many."
   ]
  },
  {
   "cell_type": "code",
   "execution_count": 7,
   "id": "d06c4949",
   "metadata": {},
   "outputs": [
    {
     "name": "stdout",
     "output_type": "stream",
     "text": [
      "[3.21708958 2.8064033 ]\n",
      "[5 6 8 5 6]\n",
      "4\n",
      "[10.0946915  12.67267173  2.01794228  1.33027807]\n"
     ]
    }
   ],
   "source": [
    "print(rng.normal(3, 0.5, 2))     # mean, stdev, size\n",
    "print(rng.binomial(10, 0.5, 5))  # n, p, size\n",
    "print(rng.geometric(0.3))        # p, size (not given here)\n",
    "print(rng.chisquare(5, 4))       # df, size"
   ]
  },
  {
   "cell_type": "markdown",
   "id": "7aa36ab4",
   "metadata": {},
   "source": [
    "As a bonus, let's plot some distributions for fun."
   ]
  },
  {
   "cell_type": "code",
   "execution_count": 8,
   "id": "14bad1ee",
   "metadata": {},
   "outputs": [
    {
     "data": {
      "image/png": "[encoded data removed]",
      "text/plain": [
       "<Figure size 640x480 with 4 Axes>"
      ]
     },
     "metadata": {},
     "output_type": "display_data"
    }
   ],
   "source": [
    "import matplotlib.pyplot as plt\n",
    "\n",
    "plt.subplot(2, 2, 1)\n",
    "plt.hist(rng.normal(3, 0.5, 100000), 100)\n",
    "plt.title(\"normal(3, 0.5, 100000)\")\n",
    "\n",
    "plt.subplot(2, 2, 2)\n",
    "plt.hist(rng.binomial(10, 0.5, 100000), 100)\n",
    "plt.title(\"binomial(10, 0.5, 100000)\")\n",
    "\n",
    "plt.subplot(2, 2, 3)\n",
    "plt.hist(rng.geometric(0.3, 100000), 100)\n",
    "plt.title(\"geometric(0.3, 100000)\")\n",
    "\n",
    "plt.subplot(2, 2, 4)\n",
    "plt.hist(rng.chisquare(5, 100000), 100)\n",
    "plt.title(\"chisquare(5, 100000)\")\n",
    "\n",
    "plt.tight_layout()\n",
    "plt.show()"
   ]
  },
  {
   "cell_type": "markdown",
   "id": "1166fdcb",
   "metadata": {},
   "source": [
    "## Summary\n",
    "\n",
    "In today's lesson, we learned about `numpy.random.Generator` and using it to do the following.\n",
    "\n",
    "1. Generating random data\n",
    "2. Shuffling data randomly\n",
    "3. Generating random distributions"
   ]
  }
 ],
 "metadata": {
  "kernelspec": {
   "display_name": "Python 3 (ipykernel)",
   "language": "python",
   "name": "python3"
  },
  "language_info": {
   "codemirror_mode": {
    "name": "ipython",
    "version": 3
   },
   "file_extension": ".py",
   "mimetype": "text/x-python",
   "name": "python",
   "nbconvert_exporter": "python",
   "pygments_lexer": "ipython3",
   "version": "3.10.7"
  }
 },
 "nbformat": 4,
 "nbformat_minor": 5
}
