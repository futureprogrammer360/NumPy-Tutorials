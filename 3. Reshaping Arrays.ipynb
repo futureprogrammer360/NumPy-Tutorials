{
 "cells": [
  {
   "cell_type": "markdown",
   "id": "d3c2dc8f",
   "metadata": {},
   "source": [
    "# Reshaping Arrays\n",
    "\n",
    "Reshaping is a very common operation with NumPy arrays. Many data science and machine learning methods only accept data of certain shapes, which may not be the original shapes of our data. Therefore, we often need to reshape our arrays into the desired shape."
   ]
  },
  {
   "cell_type": "code",
   "execution_count": 1,
   "id": "a7360f85",
   "metadata": {},
   "outputs": [],
   "source": [
    "import numpy as np"
   ]
  },
  {
   "cell_type": "markdown",
   "id": "8c4a172d",
   "metadata": {},
   "source": [
    "## Shape of an array\n",
    "\n",
    "The shape of an array is determined by the number of elements it has in each dimension."
   ]
  },
  {
   "cell_type": "code",
   "execution_count": 2,
   "id": "ad14b4fd",
   "metadata": {},
   "outputs": [
    {
     "name": "stdout",
     "output_type": "stream",
     "text": [
      "(2, 3)\n"
     ]
    }
   ],
   "source": [
    "arr = np.array([\n",
    "    [1, 2, 3],\n",
    "    [4, 5, 6]\n",
    "])\n",
    "\n",
    "print(arr.shape)"
   ]
  },
  {
   "cell_type": "markdown",
   "id": "792c05a1",
   "metadata": {},
   "source": [
    "## Flattening arrays\n",
    "\n",
    "To flatten an array (putting all the elements into 1 dimension), we can use the `ravel()` method."
   ]
  },
  {
   "cell_type": "code",
   "execution_count": 3,
   "id": "ad3ce323",
   "metadata": {},
   "outputs": [
    {
     "name": "stdout",
     "output_type": "stream",
     "text": [
      "[[1 2 3]\n",
      " [4 5 6]]\n",
      "\n",
      "[1 2 3 4 5 6]\n",
      "\n",
      "[[1 2 3]\n",
      " [4 5 6]]\n"
     ]
    }
   ],
   "source": [
    "print(arr, end=\"\\n\\n\")\n",
    "print(arr.ravel(), end=\"\\n\\n\")\n",
    "print(arr)  # arr.ravel() returns a new array, original doesn't change"
   ]
  },
  {
   "cell_type": "markdown",
   "id": "04ca0f93",
   "metadata": {},
   "source": [
    "## Reshaping arrays\n",
    "\n",
    "We can reshape arrays using the `reshape()` and `resize()` methods.\n",
    "\n",
    "`arr.reshape(shape)` returns a new array with the data of `arr` in the specified `shape`.\n",
    "\n",
    "`arr.resize(shape)` modifies the original array and changes its shape to the specified `shape`."
   ]
  },
  {
   "cell_type": "code",
   "execution_count": 4,
   "id": "ef6e9676",
   "metadata": {},
   "outputs": [
    {
     "name": "stdout",
     "output_type": "stream",
     "text": [
      "[[1 2 3]\n",
      " [4 5 6]]\n",
      "\n",
      "[[1 2]\n",
      " [3 4]\n",
      " [5 6]]\n",
      "\n",
      "[[1 2 3]\n",
      " [4 5 6]]\n"
     ]
    }
   ],
   "source": [
    "print(arr, end=\"\\n\\n\")\n",
    "print(arr.reshape((3, 2)), end=\"\\n\\n\")\n",
    "print(arr)"
   ]
  },
  {
   "cell_type": "code",
   "execution_count": 5,
   "id": "5384b3df",
   "metadata": {},
   "outputs": [
    {
     "name": "stdout",
     "output_type": "stream",
     "text": [
      "[[1 2 3]\n",
      " [4 5 6]]\n",
      "\n",
      "[[1]\n",
      " [2]\n",
      " [3]\n",
      " [4]\n",
      " [5]\n",
      " [6]]\n"
     ]
    }
   ],
   "source": [
    "print(arr, end=\"\\n\\n\")\n",
    "arr.resize((6, 1))\n",
    "print(arr)"
   ]
  },
  {
   "cell_type": "markdown",
   "id": "b63fb9df",
   "metadata": {},
   "source": [
    "It is sometimes convenient to use `-1` as a dimension when reshaping. Let's say we have a dataset with many values, stored in the shape `(1, n)`. Some data science and machine learning functions want data with shape `(n, 1)`. We could use `arr.shape` to find out the exact value of `n`, or we can just use `-1` for that dimension, so `numpy` would calculate the value for us during reshaping."
   ]
  },
  {
   "cell_type": "code",
   "execution_count": 6,
   "id": "ca29df8e",
   "metadata": {},
   "outputs": [
    {
     "name": "stdout",
     "output_type": "stream",
     "text": [
      "[[1 2 3 4 5 6 7 8 9]]\n",
      "(1, 9)\n",
      "\n",
      "[[1]\n",
      " [2]\n",
      " [3]\n",
      " [4]\n",
      " [5]\n",
      " [6]\n",
      " [7]\n",
      " [8]\n",
      " [9]]\n",
      "(9, 1)\n"
     ]
    }
   ],
   "source": [
    "arr = np.array([[1, 2, 3, 4, 5, 6, 7, 8, 9]])\n",
    "print(arr)\n",
    "print(arr.shape)\n",
    "print()\n",
    "\n",
    "reshaped_arr = arr.reshape((-1, 1))\n",
    "print(reshaped_arr)\n",
    "print(reshaped_arr.shape)"
   ]
  },
  {
   "cell_type": "markdown",
   "id": "8c5c408f",
   "metadata": {},
   "source": [
    "## Expanding dimensions\n",
    "\n",
    "The `np.expand_dims()` function is used to expand the shape of an array.\n",
    "\n",
    "```python\n",
    "np.expand_dims(arr, axis)\n",
    "```\n",
    "\n",
    "returns `arr` with its number of dimensions increased, done by adding an additional dimension at the position specified by `axis`."
   ]
  },
  {
   "cell_type": "code",
   "execution_count": 7,
   "id": "ee683076",
   "metadata": {
    "scrolled": true
   },
   "outputs": [
    {
     "name": "stdout",
     "output_type": "stream",
     "text": [
      "[0 1 2 3 4 5 6 7 8 9]\n",
      "(10,)\n",
      "\n",
      "[[0 1 2 3 4 5 6 7 8 9]]\n",
      "(1, 10)\n",
      "\n",
      "[[0]\n",
      " [1]\n",
      " [2]\n",
      " [3]\n",
      " [4]\n",
      " [5]\n",
      " [6]\n",
      " [7]\n",
      " [8]\n",
      " [9]]\n",
      "(10, 1)\n"
     ]
    }
   ],
   "source": [
    "arr = np.array(range(10))\n",
    "print(arr)\n",
    "print(arr.shape)\n",
    "print()\n",
    "\n",
    "new_arr = np.expand_dims(arr, axis=0)\n",
    "print(new_arr)\n",
    "print(new_arr.shape)\n",
    "print()\n",
    "\n",
    "new_arr = np.expand_dims(arr, axis=1)\n",
    "print(new_arr)\n",
    "print(new_arr.shape)"
   ]
  },
  {
   "cell_type": "markdown",
   "id": "0cbee2bf",
   "metadata": {},
   "source": [
    "NumPy has the `atleast_1d()`, `atleast_2d()`, and `atleast_3d()` functions, which are used to convert arrays into arrays with at least `1`, `2`, or `3` dimensions."
   ]
  },
  {
   "cell_type": "code",
   "execution_count": 8,
   "id": "4582a84d",
   "metadata": {},
   "outputs": [
    {
     "name": "stdout",
     "output_type": "stream",
     "text": [
      "(16,)\n",
      "(16,)\n",
      "(1, 16)\n",
      "(1, 16, 1)\n"
     ]
    }
   ],
   "source": [
    "arr = np.array(range(16))\n",
    "print(arr.shape)\n",
    "\n",
    "print(np.atleast_1d(arr).shape)\n",
    "print(np.atleast_2d(arr).shape)\n",
    "print(np.atleast_3d(arr).shape)"
   ]
  },
  {
   "cell_type": "markdown",
   "id": "55f6e340",
   "metadata": {},
   "source": [
    "## Removing dimensions\n",
    "\n",
    "The inverse of `np.expand_dims()` is `np.squeeze()`, which removes dimensions of length 1 from an array."
   ]
  },
  {
   "cell_type": "code",
   "execution_count": 9,
   "id": "81f95813",
   "metadata": {},
   "outputs": [
    {
     "name": "stdout",
     "output_type": "stream",
     "text": [
      "(1, 2, 4, 2, 1)\n",
      "(2, 4, 2)\n",
      "(2, 4, 2, 1)\n",
      "(1, 2, 4, 2)\n",
      "cannot select an axis to squeeze out which has size not equal to one\n"
     ]
    }
   ],
   "source": [
    "arr = np.array(range(16)).reshape((1, 2, -1, 2, 1))\n",
    "print(arr.shape)\n",
    "\n",
    "print(np.squeeze(arr).shape)\n",
    "print(np.squeeze(arr, axis=0).shape)\n",
    "print(np.squeeze(arr, axis=4).shape)\n",
    "try:\n",
    "    print(np.squeeze(arr, axis=2).shape)\n",
    "except ValueError as e:\n",
    "    print(e)"
   ]
  },
  {
   "cell_type": "markdown",
   "id": "bc1d8b33",
   "metadata": {},
   "source": [
    "## Summary\n",
    "\n",
    "In this lesson, you have learned several ways to manipulate the shape of arrays, including\n",
    "\n",
    "* Flattening using `ravel()`\n",
    "* Reshaping using\n",
    "    * `reshape()`\n",
    "    * `resize()`\n",
    "* Expanding dimensions using\n",
    "    * `expand_dims()`\n",
    "    * `atleast_1d()`\n",
    "    * `atleast_2d()`\n",
    "    * `atleast_3d()`\n",
    "* Removing dimensions using `squeeze()`"
   ]
  }
 ],
 "metadata": {
  "kernelspec": {
   "display_name": "Python 3 (ipykernel)",
   "language": "python",
   "name": "python3"
  },
  "language_info": {
   "codemirror_mode": {
    "name": "ipython",
    "version": 3
   },
   "file_extension": ".py",
   "mimetype": "text/x-python",
   "name": "python",
   "nbconvert_exporter": "python",
   "pygments_lexer": "ipython3",
   "version": "3.10.7"
  }
 },
 "nbformat": 4,
 "nbformat_minor": 5
}
