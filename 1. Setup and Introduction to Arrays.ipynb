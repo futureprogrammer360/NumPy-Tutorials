{
 "cells": [
  {
   "cell_type": "markdown",
   "id": "1a0dc15e",
   "metadata": {},
   "source": [
    "# Setup and Introduction to Arrays\n",
    "\n",
    "NumPy is arguably the most fundamental Python library in the realm of data science and machine learning. It's rare to find a data science project in Python that does not use NumPy in some way (directly or indirectly).\n",
    "\n",
    "NumPy stands for **Numerical Python** and is used to work with numerical data, supporting operations in linear algebra, matrix manipulation, and much more."
   ]
  },
  {
   "cell_type": "markdown",
   "id": "182cbd5f",
   "metadata": {},
   "source": [
    "## Installation\n",
    "\n",
    "To install NumPy, we can use the following terminal command\n",
    "\n",
    "```\n",
    "pip install numpy\n",
    "```"
   ]
  },
  {
   "cell_type": "markdown",
   "id": "ba12d873",
   "metadata": {},
   "source": [
    "## Importing\n",
    "\n",
    "To use NumPy in a Python program, we need to first import it, generally at the top of the file.\n",
    "\n",
    "Usually, NumPy is imported under the alias `np`. The typical import statement is as follows:"
   ]
  },
  {
   "cell_type": "code",
   "execution_count": 1,
   "id": "760023b1",
   "metadata": {},
   "outputs": [],
   "source": [
    "import numpy as np"
   ]
  },
  {
   "cell_type": "code",
   "execution_count": 2,
   "id": "ac5a4242",
   "metadata": {
    "scrolled": false
   },
   "outputs": [
    {
     "name": "stdout",
     "output_type": "stream",
     "text": [
      "['ALLOW_THREADS', 'AxisError', 'BUFSIZE', 'CLIP', 'ComplexWarning', 'DataSource', 'ERR_CALL', 'ERR_DEFAULT', 'ERR_IGNORE', 'ERR_LOG', 'ERR_PRINT', 'ERR_RAISE', 'ERR_WARN', 'FLOATING_POINT_SUPPORT', 'FPE_DIVIDEBYZERO', 'FPE_INVALID', 'FPE_OVERFLOW', 'FPE_UNDERFLOW', 'False_', 'Inf', 'Infinity', 'MAXDIMS', 'MAY_SHARE_BOUNDS', 'MAY_SHARE_EXACT', 'ModuleDeprecationWarning', 'NAN', 'NINF', 'NZERO', 'NaN', 'PINF', 'PZERO', 'RAISE', 'RankWarning', 'SHIFT_DIVIDEBYZERO', 'SHIFT_INVALID', 'SHIFT_OVERFLOW', 'SHIFT_UNDERFLOW', 'ScalarType', 'Tester', 'TooHardError', 'True_', 'UFUNC_BUFSIZE_DEFAULT', 'UFUNC_PYVALS_NAME', 'VisibleDeprecationWarning', 'WRAP', '_CopyMode', '_NoValue', '_UFUNC_API', '__NUMPY_SETUP__', '__all__', '__builtins__', '__cached__', '__config__', '__deprecated_attrs__', '__dir__', '__doc__', '__expired_functions__', '__file__', '__getattr__', '__git_version__', '__loader__', '__name__', '__package__', '__path__', '__spec__', '__version__', '_add_newdoc_ufunc', '_distributor_init', '_financial_names', '_globals', '_mat', '_pyinstaller_hooks_dir', '_pytesttester', '_version', 'abs', 'absolute', 'add', 'add_docstring', 'add_newdoc', 'add_newdoc_ufunc', 'all', 'allclose', 'alltrue', 'amax', 'amin', 'angle', 'any', 'append', 'apply_along_axis', 'apply_over_axes', 'arange', 'arccos', 'arccosh', 'arcsin', 'arcsinh', 'arctan', 'arctan2', 'arctanh', 'argmax', 'argmin', 'argpartition', 'argsort', 'argwhere', 'around', 'array', 'array2string', 'array_equal', 'array_equiv', 'array_repr', 'array_split', 'array_str', 'asanyarray', 'asarray', 'asarray_chkfinite', 'ascontiguousarray', 'asfarray', 'asfortranarray', 'asmatrix', 'atleast_1d', 'atleast_2d', 'atleast_3d', 'average', 'bartlett', 'base_repr', 'binary_repr', 'bincount', 'bitwise_and', 'bitwise_not', 'bitwise_or', 'bitwise_xor', 'blackman', 'block', 'bmat', 'bool8', 'bool_', 'broadcast', 'broadcast_arrays', 'broadcast_shapes', 'broadcast_to', 'busday_count', 'busday_offset', 'busdaycalendar', 'byte', 'byte_bounds', 'bytes0', 'bytes_', 'c_', 'can_cast', 'cast', 'cbrt', 'cdouble', 'ceil', 'cfloat', 'char', 'character', 'chararray', 'choose', 'clip', 'clongdouble', 'clongfloat', 'column_stack', 'common_type', 'compare_chararrays', 'compat', 'complex128', 'complex64', 'complex_', 'complexfloating', 'compress', 'concatenate', 'conj', 'conjugate', 'convolve', 'copy', 'copysign', 'copyto', 'core', 'corrcoef', 'correlate', 'cos', 'cosh', 'count_nonzero', 'cov', 'cross', 'csingle', 'ctypeslib', 'cumprod', 'cumproduct', 'cumsum', 'datetime64', 'datetime_as_string', 'datetime_data', 'deg2rad', 'degrees', 'delete', 'deprecate', 'deprecate_with_doc', 'diag', 'diag_indices', 'diag_indices_from', 'diagflat', 'diagonal', 'diff', 'digitize', 'disp', 'divide', 'divmod', 'dot', 'double', 'dsplit', 'dstack', 'dtype', 'e', 'ediff1d', 'einsum', 'einsum_path', 'emath', 'empty', 'empty_like', 'equal', 'errstate', 'euler_gamma', 'exp', 'exp2', 'expand_dims', 'expm1', 'extract', 'eye', 'fabs', 'fastCopyAndTranspose', 'fft', 'fill_diagonal', 'find_common_type', 'finfo', 'fix', 'flatiter', 'flatnonzero', 'flexible', 'flip', 'fliplr', 'flipud', 'float16', 'float32', 'float64', 'float_', 'float_power', 'floating', 'floor', 'floor_divide', 'fmax', 'fmin', 'fmod', 'format_float_positional', 'format_float_scientific', 'format_parser', 'frexp', 'from_dlpack', 'frombuffer', 'fromfile', 'fromfunction', 'fromiter', 'frompyfunc', 'fromregex', 'fromstring', 'full', 'full_like', 'gcd', 'generic', 'genfromtxt', 'geomspace', 'get_array_wrap', 'get_include', 'get_printoptions', 'getbufsize', 'geterr', 'geterrcall', 'geterrobj', 'gradient', 'greater', 'greater_equal', 'half', 'hamming', 'hanning', 'heaviside', 'histogram', 'histogram2d', 'histogram_bin_edges', 'histogramdd', 'hsplit', 'hstack', 'hypot', 'i0', 'identity', 'iinfo', 'imag', 'in1d', 'index_exp', 'indices', 'inexact', 'inf', 'info', 'infty', 'inner', 'insert', 'int0', 'int16', 'int32', 'int64', 'int8', 'int_', 'intc', 'integer', 'interp', 'intersect1d', 'intp', 'invert', 'is_busday', 'isclose', 'iscomplex', 'iscomplexobj', 'isfinite', 'isfortran', 'isin', 'isinf', 'isnan', 'isnat', 'isneginf', 'isposinf', 'isreal', 'isrealobj', 'isscalar', 'issctype', 'issubclass_', 'issubdtype', 'issubsctype', 'iterable', 'ix_', 'kaiser', 'kron', 'lcm', 'ldexp', 'left_shift', 'less', 'less_equal', 'lexsort', 'lib', 'linalg', 'linspace', 'little_endian', 'load', 'loadtxt', 'log', 'log10', 'log1p', 'log2', 'logaddexp', 'logaddexp2', 'logical_and', 'logical_not', 'logical_or', 'logical_xor', 'logspace', 'longcomplex', 'longdouble', 'longfloat', 'longlong', 'lookfor', 'ma', 'mask_indices', 'mat', 'math', 'matmul', 'matrix', 'matrixlib', 'max', 'maximum', 'maximum_sctype', 'may_share_memory', 'mean', 'median', 'memmap', 'meshgrid', 'mgrid', 'min', 'min_scalar_type', 'minimum', 'mintypecode', 'mod', 'modf', 'moveaxis', 'msort', 'multiply', 'nan', 'nan_to_num', 'nanargmax', 'nanargmin', 'nancumprod', 'nancumsum', 'nanmax', 'nanmean', 'nanmedian', 'nanmin', 'nanpercentile', 'nanprod', 'nanquantile', 'nanstd', 'nansum', 'nanvar', 'nbytes', 'ndarray', 'ndenumerate', 'ndim', 'ndindex', 'nditer', 'negative', 'nested_iters', 'newaxis', 'nextafter', 'nonzero', 'not_equal', 'numarray', 'number', 'obj2sctype', 'object0', 'object_', 'ogrid', 'oldnumeric', 'ones', 'ones_like', 'os', 'outer', 'packbits', 'pad', 'partition', 'percentile', 'pi', 'piecewise', 'place', 'poly', 'poly1d', 'polyadd', 'polyder', 'polydiv', 'polyfit', 'polyint', 'polymul', 'polynomial', 'polysub', 'polyval', 'positive', 'power', 'printoptions', 'prod', 'product', 'promote_types', 'ptp', 'put', 'put_along_axis', 'putmask', 'quantile', 'r_', 'rad2deg', 'radians', 'random', 'ravel', 'ravel_multi_index', 'real', 'real_if_close', 'rec', 'recarray', 'recfromcsv', 'recfromtxt', 'reciprocal', 'record', 'remainder', 'repeat', 'require', 'reshape', 'resize', 'result_type', 'right_shift', 'rint', 'roll', 'rollaxis', 'roots', 'rot90', 'round', 'round_', 'row_stack', 's_', 'safe_eval', 'save', 'savetxt', 'savez', 'savez_compressed', 'sctype2char', 'sctypeDict', 'sctypes', 'searchsorted', 'select', 'set_numeric_ops', 'set_printoptions', 'set_string_function', 'setbufsize', 'setdiff1d', 'seterr', 'seterrcall', 'seterrobj', 'setxor1d', 'shape', 'shares_memory', 'short', 'show_config', 'sign', 'signbit', 'signedinteger', 'sin', 'sinc', 'single', 'singlecomplex', 'sinh', 'size', 'sometrue', 'sort', 'sort_complex', 'source', 'spacing', 'split', 'sqrt', 'square', 'squeeze', 'stack', 'std', 'str0', 'str_', 'string_', 'subtract', 'sum', 'swapaxes', 'sys', 'take', 'take_along_axis', 'tan', 'tanh', 'tensordot', 'test', 'testing', 'tile', 'timedelta64', 'trace', 'tracemalloc_domain', 'transpose', 'trapz', 'tri', 'tril', 'tril_indices', 'tril_indices_from', 'trim_zeros', 'triu', 'triu_indices', 'triu_indices_from', 'true_divide', 'trunc', 'typecodes', 'typename', 'ubyte', 'ufunc', 'uint', 'uint0', 'uint16', 'uint32', 'uint64', 'uint8', 'uintc', 'uintp', 'ulonglong', 'unicode_', 'union1d', 'unique', 'unpackbits', 'unravel_index', 'unsignedinteger', 'unwrap', 'use_hugepage', 'ushort', 'vander', 'var', 'vdot', 'vectorize', 'version', 'void', 'void0', 'vsplit', 'vstack', 'warnings', 'where', 'who', 'zeros', 'zeros_like']\n"
     ]
    }
   ],
   "source": [
    "print(dir(np))"
   ]
  },
  {
   "cell_type": "markdown",
   "id": "122a6972",
   "metadata": {},
   "source": [
    "## NumPy arrays\n",
    "\n",
    "NumPy is so popular because of the functionalities that its **arrays** provide. Arrays are similar to Python's traditional `list`s, just specialized for data science and numerical computation. Unlike `list`s, NumPy arrays are also homogeneous (can only store one type of data in one array).\n",
    "\n",
    "Because of its optimization for large data and numerical computation, NumPy arrays are faster than lists and also require less space to store the same data. It also provides a great number of capabilities that data scientists need."
   ]
  },
  {
   "cell_type": "markdown",
   "id": "a32eb49b",
   "metadata": {},
   "source": [
    "### Creating arrays\n",
    "\n",
    "NumPy has many many functions that can be used to create arrays for different purposes. The most basic way of making an array is the `np.array()` function, into which we can pass some `list`, `tuple`, or some other array-like object."
   ]
  },
  {
   "cell_type": "code",
   "execution_count": 3,
   "id": "f39dbede",
   "metadata": {
    "scrolled": false
   },
   "outputs": [
    {
     "name": "stdout",
     "output_type": "stream",
     "text": [
      "[[1 2 3]\n",
      " [2 3 4]\n",
      " [3 4 5]]\n",
      "<class 'numpy.ndarray'>\n",
      "\n",
      "[[1.3 2.2 3.1]\n",
      " [2.9 3.5 4.1]\n",
      " [3.2 4.4 5.6]]\n",
      "\n",
      "['1' 'Hi']\n",
      "[1.   3.21]\n"
     ]
    }
   ],
   "source": [
    "arr1 = np.array([[1, 2, 3],\n",
    "                 [2, 3, 4],\n",
    "                 [3, 4, 5]])\n",
    "print(arr1)\n",
    "print(type(arr1))\n",
    "print()\n",
    "\n",
    "arr2 = np.array(((1.3, 2.2, 3.1),\n",
    "                 (2.9, 3.5, 4.1),\n",
    "                 (3.2, 4.4, 5.6)))\n",
    "print(arr2)\n",
    "print()\n",
    "\n",
    "print(np.array([1, \"Hi\"]))  # Notice how 1 is converted to a str\n",
    "print(np.array([1, 3.21]))  # Notice how 1 is converted to a float"
   ]
  },
  {
   "cell_type": "markdown",
   "id": "2caba8cd",
   "metadata": {},
   "source": [
    "### Commonly used attributes\n",
    "\n",
    "Here are some of the most used and important attributes of an NumPy array.\n",
    "\n",
    "* `arr.shape`: dimensions of the array (\"depth\")\n",
    "* `arr.ndim`: number of dimensions (technically called axes) of the array\n",
    "* `arr.size`: total number of elements in the array\n",
    "* `arr.dtype`: data type the array stores"
   ]
  },
  {
   "cell_type": "code",
   "execution_count": 4,
   "id": "03c034a8",
   "metadata": {},
   "outputs": [
    {
     "name": "stdout",
     "output_type": "stream",
     "text": [
      "arr.shape = (2, 4)\n",
      "arr.ndim = 2\n",
      "arr.size = 8\n",
      "arr.dtype = dtype('int32')\n"
     ]
    }
   ],
   "source": [
    "arr = np.array([\n",
    "    [1, -2, 3, -4],\n",
    "    [-1, 2, -3, 4]\n",
    "])\n",
    "\n",
    "print(f\"{arr.shape = }\")\n",
    "print(f\"{arr.ndim = }\")\n",
    "print(f\"{arr.size = }\")\n",
    "print(f\"{arr.dtype = }\")"
   ]
  },
  {
   "cell_type": "markdown",
   "id": "66126616",
   "metadata": {},
   "source": [
    "### Arithmetic operations\n",
    "\n",
    "Among the many differences between `list`s and NumPy arrays is that arithmetic operations are done element-wise for arrays."
   ]
  },
  {
   "cell_type": "code",
   "execution_count": 5,
   "id": "6d2cb070",
   "metadata": {},
   "outputs": [
    {
     "name": "stdout",
     "output_type": "stream",
     "text": [
      "[1, 2, 3]\n",
      "[3, 4, 5]\n"
     ]
    }
   ],
   "source": [
    "l = [1, 2, 3]\n",
    "print(l)\n",
    "# print(l + 2)  # TypeError: can only concatenate list (not \"int\") to list\n",
    "print([num + 2 for num in l])"
   ]
  },
  {
   "cell_type": "code",
   "execution_count": 6,
   "id": "fcbd63b2",
   "metadata": {},
   "outputs": [
    {
     "name": "stdout",
     "output_type": "stream",
     "text": [
      "[1 2 3]\n",
      "[3 4 5]\n",
      "[-9 -8 -7]\n",
      "[3 6 9]\n",
      "[0.5 1.  1.5]\n"
     ]
    }
   ],
   "source": [
    "arr = np.array([1, 2, 3])\n",
    "print(arr)\n",
    "print(arr + 2)\n",
    "print(arr - 10)\n",
    "print(arr * 3)\n",
    "print(arr / 2)"
   ]
  },
  {
   "cell_type": "code",
   "execution_count": 7,
   "id": "5464e98c",
   "metadata": {},
   "outputs": [
    {
     "name": "stdout",
     "output_type": "stream",
     "text": [
      "[0 0 0]\n",
      "[-1 -4 -9]\n"
     ]
    }
   ],
   "source": [
    "a = np.array([1, 2, 3])\n",
    "b = np.array([-1, -2, -3])\n",
    "\n",
    "print(a + b)\n",
    "print(a * b)"
   ]
  },
  {
   "cell_type": "markdown",
   "id": "b5dcd41a",
   "metadata": {},
   "source": [
    "## Summary\n",
    "\n",
    "Today, we learned about:\n",
    "\n",
    "* Installing and importing `numpy`\n",
    "* Creating NumPy arrays\n",
    "* Important attributes of `numpy` arrays\n",
    "* Arithmetic operations with `numpy` arrays"
   ]
  }
 ],
 "metadata": {
  "kernelspec": {
   "display_name": "Python 3 (ipykernel)",
   "language": "python",
   "name": "python3"
  },
  "language_info": {
   "codemirror_mode": {
    "name": "ipython",
    "version": 3
   },
   "file_extension": ".py",
   "mimetype": "text/x-python",
   "name": "python",
   "nbconvert_exporter": "python",
   "pygments_lexer": "ipython3",
   "version": "3.10.7"
  }
 },
 "nbformat": 4,
 "nbformat_minor": 5
}
