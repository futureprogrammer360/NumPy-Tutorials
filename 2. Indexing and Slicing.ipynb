{
 "cells": [
  {
   "cell_type": "markdown",
   "id": "7f55196b",
   "metadata": {},
   "source": [
    "# Indexing and Slicing\n",
    "\n",
    "Just like with `list`s, NumPy arrays support **indexing** (accessing an element using an index) and **slicing** (accessing elements using start and end indices)."
   ]
  },
  {
   "cell_type": "code",
   "execution_count": 1,
   "id": "3d3a81b0",
   "metadata": {},
   "outputs": [],
   "source": [
    "import numpy as np"
   ]
  },
  {
   "cell_type": "markdown",
   "id": "8a745a19",
   "metadata": {},
   "source": [
    "## Indexing/slicing 1D arrays\n",
    "\n",
    "For one-dimensional arrays, the syntax of indexing and slicing are the same as with `list`s and `tuple`s.\n",
    "\n",
    "```python\n",
    "arr[index]            # Indexing\n",
    "arr[start:stop:step]  # Slicing\n",
    "```"
   ]
  },
  {
   "cell_type": "code",
   "execution_count": 2,
   "id": "83b6d22a",
   "metadata": {},
   "outputs": [
    {
     "name": "stdout",
     "output_type": "stream",
     "text": [
      "[0, 1, 2, 3, 4, 5, 6, 7, 8, 9]\n",
      "[0 1 2 3 4 5 6 7 8 9]\n"
     ]
    }
   ],
   "source": [
    "l = list(range(10))\n",
    "a = np.array(l)\n",
    "\n",
    "print(l)\n",
    "print(a)"
   ]
  },
  {
   "cell_type": "code",
   "execution_count": 3,
   "id": "84eecec2",
   "metadata": {},
   "outputs": [
    {
     "name": "stdout",
     "output_type": "stream",
     "text": [
      "3\n",
      "3\n"
     ]
    }
   ],
   "source": [
    "print(l[3])\n",
    "print(a[3])"
   ]
  },
  {
   "cell_type": "code",
   "execution_count": 4,
   "id": "61bfc878",
   "metadata": {},
   "outputs": [
    {
     "name": "stdout",
     "output_type": "stream",
     "text": [
      "[1, 2, 3]\n",
      "[1 2 3]\n"
     ]
    }
   ],
   "source": [
    "print(l[1:4])\n",
    "print(a[1:4])"
   ]
  },
  {
   "cell_type": "code",
   "execution_count": 5,
   "id": "afba0b24",
   "metadata": {},
   "outputs": [
    {
     "name": "stdout",
     "output_type": "stream",
     "text": [
      "[1, 3, 5]\n",
      "[1 3 5]\n"
     ]
    }
   ],
   "source": [
    "print(l[1:6:2])\n",
    "print(a[1:6:2])"
   ]
  },
  {
   "cell_type": "code",
   "execution_count": 6,
   "id": "9163748d",
   "metadata": {},
   "outputs": [
    {
     "name": "stdout",
     "output_type": "stream",
     "text": [
      "[9, 8, 7, 6, 5, 4, 3, 2, 1, 0]\n",
      "[9 8 7 6 5 4 3 2 1 0]\n"
     ]
    }
   ],
   "source": [
    "print(l[::-1])\n",
    "print(a[::-1])"
   ]
  },
  {
   "cell_type": "markdown",
   "id": "d70451c3",
   "metadata": {},
   "source": [
    "## Indexing/slicing ND arrays\n",
    "\n",
    "When indexing and slicing arrays with multiple dimensions, we pass in either an index or a slice for each dimension of the array in square brackets, separated by commas.\n",
    "\n",
    "```python\n",
    "arr[\n",
    "    start_outer:stop_outer:step_outer,\n",
    "    start_inner:stop_inner:step_inner\n",
    "]  # For 2D arrays\n",
    "```"
   ]
  },
  {
   "cell_type": "code",
   "execution_count": 7,
   "id": "fcc5bc42",
   "metadata": {},
   "outputs": [
    {
     "name": "stdout",
     "output_type": "stream",
     "text": [
      "[[    1     2     3     4]\n",
      " [   10    20    30    40]\n",
      " [  100   200   300   400]\n",
      " [ 1000  2000  3000  4000]\n",
      " [10000 20000 30000 40000]]\n"
     ]
    }
   ],
   "source": [
    "arr = np.array([\n",
    "    [1, 2, 3, 4],\n",
    "    [10, 20, 30, 40],\n",
    "    [100, 200, 300, 400],\n",
    "    [1000, 2000, 3000, 4000],\n",
    "    [10000, 20000, 30000, 40000]\n",
    "])\n",
    "print(arr)"
   ]
  },
  {
   "cell_type": "code",
   "execution_count": 8,
   "id": "2d0c233f",
   "metadata": {
    "scrolled": true
   },
   "outputs": [
    {
     "name": "stdout",
     "output_type": "stream",
     "text": [
      "30\n"
     ]
    }
   ],
   "source": [
    "print(arr[1, 2])"
   ]
  },
  {
   "cell_type": "code",
   "execution_count": 9,
   "id": "15aa7f50",
   "metadata": {
    "scrolled": true
   },
   "outputs": [
    {
     "name": "stdout",
     "output_type": "stream",
     "text": [
      "[ 30 300]\n"
     ]
    }
   ],
   "source": [
    "print(arr[1:3, 2])"
   ]
  },
  {
   "cell_type": "code",
   "execution_count": 10,
   "id": "58e026dc",
   "metadata": {},
   "outputs": [
    {
     "name": "stdout",
     "output_type": "stream",
     "text": [
      "[[  3   4]\n",
      " [300 400]]\n"
     ]
    }
   ],
   "source": [
    "print(arr[:4:2, 2:4])"
   ]
  },
  {
   "cell_type": "markdown",
   "id": "cb424702",
   "metadata": {},
   "source": [
    "Sometimes, you will see `...` in the square brackets. `...`, called `Ellipsis`, is used to fill up the number of `:` needed for all the dimensions. For example, the lines below are equivalent."
   ]
  },
  {
   "cell_type": "code",
   "execution_count": 11,
   "id": "7dc5b77a",
   "metadata": {},
   "outputs": [
    {
     "name": "stdout",
     "output_type": "stream",
     "text": [
      "[[19 20 21]\n",
      " [22 23 23]\n",
      " [24 25 26]]\n",
      "\n",
      "[[19 20 21]\n",
      " [22 23 23]\n",
      " [24 25 26]]\n",
      "\n",
      "[[19 20 21]\n",
      " [22 23 23]\n",
      " [24 25 26]]\n",
      "\n"
     ]
    }
   ],
   "source": [
    "arr = np.array([\n",
    "    [[1, 2, 3], [4, 5, 6], [7, 8, 9]],\n",
    "    [[10, 11, 12], [13, 14, 15], [16, 17, 18]],\n",
    "    [[19, 20, 21], [22, 23, 23], [24, 25, 26]]\n",
    "])\n",
    "\n",
    "print(arr[2], end=\"\\n\\n\")\n",
    "print(arr[2, :, :], end=\"\\n\\n\")\n",
    "print(arr[2, ...], end=\"\\n\\n\")"
   ]
  },
  {
   "cell_type": "code",
   "execution_count": 12,
   "id": "e853231c",
   "metadata": {
    "scrolled": true
   },
   "outputs": [
    {
     "name": "stdout",
     "output_type": "stream",
     "text": [
      "[[ 2  5  8]\n",
      " [11 14 17]\n",
      " [20 23 25]]\n"
     ]
    }
   ],
   "source": [
    "print(arr[..., 1])"
   ]
  },
  {
   "cell_type": "markdown",
   "id": "13ab22d9",
   "metadata": {},
   "source": [
    "## Modifying arrays using indexing and slicing\n",
    "\n",
    "In addition to accessing values of an array using indexing and slicing, these operations also allow us to modify an array."
   ]
  },
  {
   "cell_type": "code",
   "execution_count": 13,
   "id": "4643185b",
   "metadata": {},
   "outputs": [
    {
     "name": "stdout",
     "output_type": "stream",
     "text": [
      "[1 2 3 4 5 6 7]\n",
      "[1 0 3 0 5 0 7]\n",
      "[ 1 -2  3 -4  5 -6  7]\n",
      "[  1 100   3 300   5 500   7]\n"
     ]
    }
   ],
   "source": [
    "arr = np.array([1, 2, 3, 4, 5, 6, 7])\n",
    "print(arr)\n",
    "\n",
    "a = arr.copy()\n",
    "a[1:6:2] = 0\n",
    "print(a)\n",
    "\n",
    "a = arr.copy()\n",
    "a[1:6:2] *= -1\n",
    "print(a)\n",
    "\n",
    "a = arr.copy()\n",
    "a[1:6:2] = [100, 300, 500]\n",
    "print(a)\n",
    "\n",
    "# a[1:6:2] = [1, 2, 3, 4]\n",
    "# ValueError:\n",
    "    # could not broadcast input array from shape (4,) into shape (3,)"
   ]
  },
  {
   "cell_type": "markdown",
   "id": "9a3d2683",
   "metadata": {},
   "source": [
    "## Summary\n",
    "\n",
    "In this lesson, you learned about\n",
    "\n",
    "* Indexing and slicing one-dimensional arrays\n",
    "* Indexing and slicing multidimensional arrays\n",
    "* Modifying arrays using indexing and slicing"
   ]
  }
 ],
 "metadata": {
  "kernelspec": {
   "display_name": "Python 3 (ipykernel)",
   "language": "python",
   "name": "python3"
  },
  "language_info": {
   "codemirror_mode": {
    "name": "ipython",
    "version": 3
   },
   "file_extension": ".py",
   "mimetype": "text/x-python",
   "name": "python",
   "nbconvert_exporter": "python",
   "pygments_lexer": "ipython3",
   "version": "3.10.7"
  }
 },
 "nbformat": 4,
 "nbformat_minor": 5
}
